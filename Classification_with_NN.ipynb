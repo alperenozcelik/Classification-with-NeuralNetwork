{
 "cells": [
  {
   "cell_type": "markdown",
   "metadata": {},
   "source": [
    "#### Hacettepe University\n",
    "\n",
    "#### Artificial Intelligence Engineering Department\n",
    "\n",
    "#### Name - Surname :  Mehmet Alperen Ozcelik"
   ]
  },
  {
   "cell_type": "markdown",
   "metadata": {},
   "source": [
    "## Classification of Monkey Species using Neural Network"
   ]
  },
  {
   "cell_type": "code",
   "execution_count": 1,
   "metadata": {},
   "outputs": [],
   "source": [
    "import pandas as pd\n",
    "import numpy as np\n",
    "import cv2\n",
    "import os\n",
    "import matplotlib.pyplot as plt\n",
    "%matplotlib inline\n",
    "plt.style.use(\"fivethirtyeight\")\n",
    "import warnings\n",
    "warnings.filterwarnings('ignore')\n",
    "\n",
    "def load_images(folderName, size):\n",
    "    \n",
    "    imageList = []\n",
    "    nameList = []\n",
    "    \n",
    "    for filename in os.listdir(folderName):\n",
    "        img = cv2.imread(os.path.join(folderName, filename))\n",
    "        \n",
    "        if img is not None:\n",
    "\n",
    "            resized = cv2.resize(img,size, interpolation= cv2.INTER_LINEAR)\n",
    "            image = resized.astype('float32')\n",
    "            image = image / 255\n",
    "            imageList.append(image)\n",
    "            nameList.append(filename[1])\n",
    "    \n",
    "    return imageList, nameList\n",
    "\n",
    "def all_images(mainFolder,size):\n",
    "    \n",
    "    imageList = []\n",
    "    specyList = []\n",
    "    \n",
    "    for i in range(10):\n",
    "        \n",
    "        img, specy = load_images(mainFolder + str(i), size)\n",
    "        imageList.extend(img)\n",
    "        specyList.extend(specy)\n",
    "        \n",
    "    imageList = np.array(imageList)\n",
    "    specyList = np.array(specyList)\n",
    "    \n",
    "    return imageList, specyList"
   ]
  },
  {
   "cell_type": "code",
   "execution_count": 2,
   "metadata": {},
   "outputs": [],
   "source": [
    "images,species =  all_images(\"training/n\", (8,8))"
   ]
  },
  {
   "cell_type": "code",
   "execution_count": 3,
   "metadata": {},
   "outputs": [
    {
     "data": {
      "image/png": "[encoded data removed]",
      "text/plain": [
       "<Figure size 864x432 with 1 Axes>"
      ]
     },
     "metadata": {
      "needs_background": "light"
     },
     "output_type": "display_data"
    }
   ],
   "source": [
    "a,b = [],[]\n",
    "(unique, counts) = np.unique(species, return_counts=True)\n",
    "frequencies = np.asarray((unique, counts)).T\n",
    "\n",
    "for i in frequencies:\n",
    "    a.append(i[0])\n",
    "    b.append(int(i[1]))\n",
    "    \n",
    "fig = plt.figure(figsize=(12, 6))\n",
    "plt.barh(a, b, color='red',alpha = 0.6)\n",
    "\n",
    "plt.xlabel(\"Number of Images\")\n",
    "plt.ylabel(\"Species\")\n",
    "plt.title(\"Distribution of Species\", size = 20)\n",
    "plt.xlim([100, 125])\n",
    "plt.show()"
   ]
  },
  {
   "cell_type": "code",
   "execution_count": 4,
   "metadata": {},
   "outputs": [],
   "source": [
    "import tensorflow as tf\n",
    "from tensorflow.keras import layers, models, optimizers\n",
    "from tensorflow.keras.models import Sequential\n",
    "from tensorflow.keras.optimizers import SGD, Adam\n",
    "from tensorflow.keras.layers import Conv2D, MaxPooling2D, Flatten, Dense\n",
    "from sklearn.model_selection import train_test_split\n",
    "from sklearn.metrics import accuracy_score"
   ]
  },
  {
   "cell_type": "code",
   "execution_count": 5,
   "metadata": {},
   "outputs": [],
   "source": [
    "X = images.reshape(1098,8*8*3)\n",
    "y = species"
   ]
  },
  {
   "cell_type": "code",
   "execution_count": 6,
   "metadata": {},
   "outputs": [],
   "source": [
    "X_train, X_test, y_train, y_test = train_test_split(X, y, test_size= 0.10, random_state = 33)"
   ]
  },
  {
   "cell_type": "markdown",
   "metadata": {},
   "source": [
    "### #Multi Layer Neural Network"
   ]
  },
  {
   "cell_type": "code",
   "execution_count": 7,
   "metadata": {},
   "outputs": [],
   "source": [
    "from sklearn.base import BaseEstimator\n",
    "\n",
    "class MultiLayerNN(BaseEstimator):\n",
    "\n",
    "    def __init__(self, X_train, Y_train, X_val, Y_val, num_of_layers, layer_size):\n",
    "\n",
    "        self.X_train = np.concatenate((X_train, np.ones((X_train.shape[0], 1))), axis=1)\n",
    "        self.Y_train = np.squeeze(np.eye(10)[Y_train.astype(np.int).reshape(-1)])\n",
    "        self.X_val = np.concatenate((X_val, np.ones((X_val.shape[0], 1))), axis=1)\n",
    "        self.Y_val = np.squeeze(np.eye(10)[Y_val.astype(np.int).reshape(-1)])\n",
    "        self.layer_length = num_of_layers\n",
    "        self.input_size = layer_size\n",
    "        self.layer = np.array([self.X_train.shape[1]] + [layer_size] * num_of_layers + [self.Y_train.shape[1]])\n",
    "        self.weights()\n",
    "\n",
    "    def weights(self):\n",
    "\n",
    "        self.weights = []\n",
    "        for i in range(self.layer.shape[0] - 1):\n",
    "            self.weights.append(np.random.uniform(-1, 1, size=[self.layer[i], self.layer[i + 1]]))\n",
    "        self.weights = np.asarray(self.weights)\n",
    "\n",
    "    def layers(self, batch_size):\n",
    "\n",
    "        self.h = [np.empty((batch_size, layer)) for layer in self.layer]\n",
    "\n",
    "    def sigmoid(self, x):\n",
    "\n",
    "        sgm = 1.0 / (1.0 + np.exp(-x))\n",
    "        return sgm\n",
    "\n",
    "    def sigmoid_prime(self, h):\n",
    "\n",
    "        sgm_pr = h * (1 - h)\n",
    "        return sgm_pr\n",
    "\n",
    "    def softmax(self, x):\n",
    "\n",
    "        softmax = np.exp(x) / np.exp(x).sum(axis=1, keepdims=True)\n",
    "        return softmax\n",
    "\n",
    "    def loss_function(self, y_pred, y):\n",
    "\n",
    "        for i in range(len(y)):\n",
    "            difference = y[i] - y_pred[i]\n",
    "            squared_difference = difference ** 2\n",
    "            summation = summation + squared_difference\n",
    "\n",
    "        MSE = summation / len(y)\n",
    "        return MSE\n",
    "\n",
    "    def forward_propagation(self, b):\n",
    "\n",
    "        temp = b\n",
    "        self.h[0] = temp\n",
    "        for i, weights in enumerate(self.weights):\n",
    "            temp = self.sigmoid(temp.dot(weights))\n",
    "            self.h[i + 1] = temp\n",
    "        self.out = self.softmax(self.h[-1])\n",
    "\n",
    "    def back_propagation(self, y_batch):\n",
    "\n",
    "        delta_t = (self.out - y_batch) * self.sigmoid_prime(self.h[-1])\n",
    "        for i in range(1, len(self.weights) + 1):\n",
    "            self.weights[-i] -= self.learning_rate * (self.h[-i - 1].T.dot(delta_t)) / self.batch_size\n",
    "            delta_t = self.sigmoid_prime(self.h[-i - 1]) * (delta_t.dot(self.weights[-i].T))\n",
    "\n",
    "    def predict(self, X):\n",
    "\n",
    "        X = np.concatenate((X, np.ones((X.shape[0], 1))), axis=1)\n",
    "        self.layers(X.shape[0])\n",
    "        self.forward_propagation(X)\n",
    "        categorical = np.zeros((self.out.shape[0], self.Y_train.shape[1]))\n",
    "        categorical[np.arange(self.out.shape[0]), self.out.argmax(axis=1)] = 1\n",
    "\n",
    "        predictions = []\n",
    "\n",
    "        for i in range(len(categorical)):\n",
    "            for j in range(10):\n",
    "                if categorical[i][j] == 1:\n",
    "                    predictions.append(str(j))\n",
    "\n",
    "        return predictions\n",
    "\n",
    "    def train(self, batch_size, epochs, learning_rate):\n",
    "\n",
    "        self.learning_rate = learning_rate\n",
    "        self.batch_size = batch_size\n",
    "\n",
    "        for i in range(epochs):\n",
    "\n",
    "            self.layers(self.batch_size)\n",
    "            rand = np.random.permutation(self.X_train.shape[0])\n",
    "\n",
    "            X_batches = np.array_split(self.X_train[rand], self.X_train.shape[0] / self.batch_size)\n",
    "            Y_batches = np.array_split(self.Y_train[rand], self.X_train.shape[0] / self.batch_size)\n",
    "\n",
    "            for x_batch, y_batch in zip(X_batches, Y_batches):\n",
    "                self.forward_propagation(x_batch)\n",
    "                self.back_propagation(y_batch)\n",
    "\n",
    "            self.layers(self.X_val.shape[0])\n",
    "            self.forward_propagation(self.X_val)"
   ]
  },
  {
   "cell_type": "markdown",
   "metadata": {},
   "source": [
    "### Change of Layer Numbers"
   ]
  },
  {
   "cell_type": "code",
   "execution_count": 8,
   "metadata": {},
   "outputs": [
    {
     "name": "stdout",
     "output_type": "stream",
     "text": [
      "Number of Layers: 1 Accuracy: 0.33636363636363636\n",
      "Number of Layers: 2 Accuracy: 0.37272727272727274\n",
      "Number of Layers: 3 Accuracy: 0.43636363636363634\n",
      "Number of Layers: 4 Accuracy: 0.41818181818181815\n",
      "Number of Layers: 5 Accuracy: 0.37272727272727274\n",
      "Number of Layers: 6 Accuracy: 0.37272727272727274\n",
      "Number of Layers: 7 Accuracy: 0.11818181818181818\n",
      "Number of Layers: 8 Accuracy: 0.39090909090909093\n",
      "Number of Layers: 9 Accuracy: 0.07272727272727272\n",
      "Number of Layers: 10 Accuracy: 0.13636363636363635\n"
     ]
    }
   ],
   "source": [
    "for i in range(1,11):\n",
    "    model = MultiLayerNN(X_train,y_train,X_test, y_test, num_of_layers = i, layer_size = 128)\n",
    "    model.train(batch_size=64, epochs=50, learning_rate=0.5)\n",
    "    pred = model.predict(X_test)\n",
    "    acc = accuracy_score(y_test, pred)\n",
    "    print(\"Number of Layers:\",i,\"Accuracy:\",acc)"
   ]
  },
  {
   "cell_type": "markdown",
   "metadata": {},
   "source": [
    "#####  > I decided to use 5 Layers"
   ]
  },
  {
   "cell_type": "markdown",
   "metadata": {},
   "source": [
    "### Change of Batch Size and Learning Rate"
   ]
  },
  {
   "cell_type": "markdown",
   "metadata": {},
   "source": [
    "#####  > While my learning rates are between 0.005 and 0.02, since the accuracy is very low, I decided to increase it in these intervals."
   ]
  },
  {
   "cell_type": "code",
   "execution_count": 9,
   "metadata": {},
   "outputs": [
    {
     "name": "stdout",
     "output_type": "stream",
     "text": [
      "Batch Size: 16 Learning Rate: 0.10 Accuracy: 0.25\n",
      "Batch Size: 16 Learning Rate: 0.20 Accuracy: 0.47\n",
      "Batch Size: 16 Learning Rate: 0.30 Accuracy: 0.43\n",
      "Batch Size: 16 Learning Rate: 0.40 Accuracy: 0.46\n",
      "Batch Size: 16 Learning Rate: 0.50 Accuracy: 0.10\n",
      "Batch Size: 16 Learning Rate: 0.60 Accuracy: 0.46\n",
      "Batch Size: 16 Learning Rate: 0.70 Accuracy: 0.35\n",
      "Batch Size: 16 Learning Rate: 0.80 Accuracy: 0.20\n",
      "Batch Size: 16 Learning Rate: 0.90 Accuracy: 0.42\n",
      "Batch Size: 16 Learning Rate: 1.00 Accuracy: 0.35\n",
      "Batch Size: 32 Learning Rate: 0.10 Accuracy: 0.34\n",
      "Batch Size: 32 Learning Rate: 0.20 Accuracy: 0.35\n",
      "Batch Size: 32 Learning Rate: 0.30 Accuracy: 0.39\n",
      "Batch Size: 32 Learning Rate: 0.40 Accuracy: 0.40\n",
      "Batch Size: 32 Learning Rate: 0.50 Accuracy: 0.51\n",
      "Batch Size: 32 Learning Rate: 0.60 Accuracy: 0.50\n",
      "Batch Size: 32 Learning Rate: 0.70 Accuracy: 0.30\n",
      "Batch Size: 32 Learning Rate: 0.80 Accuracy: 0.50\n",
      "Batch Size: 32 Learning Rate: 0.90 Accuracy: 0.41\n",
      "Batch Size: 32 Learning Rate: 1.00 Accuracy: 0.45\n",
      "Batch Size: 64 Learning Rate: 0.10 Accuracy: 0.14\n",
      "Batch Size: 64 Learning Rate: 0.20 Accuracy: 0.15\n",
      "Batch Size: 64 Learning Rate: 0.30 Accuracy: 0.33\n",
      "Batch Size: 64 Learning Rate: 0.40 Accuracy: 0.36\n",
      "Batch Size: 64 Learning Rate: 0.50 Accuracy: 0.15\n",
      "Batch Size: 64 Learning Rate: 0.60 Accuracy: 0.42\n",
      "Batch Size: 64 Learning Rate: 0.70 Accuracy: 0.15\n",
      "Batch Size: 64 Learning Rate: 0.80 Accuracy: 0.41\n",
      "Batch Size: 64 Learning Rate: 0.90 Accuracy: 0.26\n",
      "Batch Size: 64 Learning Rate: 1.00 Accuracy: 0.15\n",
      "Batch Size: 128 Learning Rate: 0.10 Accuracy: 0.05\n",
      "Batch Size: 128 Learning Rate: 0.20 Accuracy: 0.26\n",
      "Batch Size: 128 Learning Rate: 0.30 Accuracy: 0.35\n",
      "Batch Size: 128 Learning Rate: 0.40 Accuracy: 0.15\n",
      "Batch Size: 128 Learning Rate: 0.50 Accuracy: 0.41\n",
      "Batch Size: 128 Learning Rate: 0.60 Accuracy: 0.30\n",
      "Batch Size: 128 Learning Rate: 0.70 Accuracy: 0.14\n",
      "Batch Size: 128 Learning Rate: 0.80 Accuracy: 0.40\n",
      "Batch Size: 128 Learning Rate: 0.90 Accuracy: 0.26\n",
      "Batch Size: 128 Learning Rate: 1.00 Accuracy: 0.07\n"
     ]
    }
   ],
   "source": [
    "for i in range(4,8):\n",
    "    for j in range(10):\n",
    "        model = MultiLayerNN(X_train,y_train,X_test, y_test, num_of_layers = 5, layer_size = 128)\n",
    "        model.train(batch_size=2**i, epochs=50, learning_rate=0.1+(j*0.1))\n",
    "        pred = model.predict(X_test)\n",
    "        acc = accuracy_score(y_test, pred)\n",
    "        print(\"Batch Size:\",2**i,\"Learning Rate: %.2f\" %(0.1+(j*0.1)),\"Accuracy: %.2f\" %acc)"
   ]
  },
  {
   "cell_type": "markdown",
   "metadata": {},
   "source": [
    "##### As a result, I decided that the best batch size is 32 and the best learning rate is 0.5 in my Multi Layer Neural Network"
   ]
  },
  {
   "cell_type": "markdown",
   "metadata": {},
   "source": [
    "### #Convolutional Neural Network"
   ]
  },
  {
   "cell_type": "code",
   "execution_count": 10,
   "metadata": {},
   "outputs": [],
   "source": [
    "images,species =  all_images(\"training/n\", (32,32))"
   ]
  },
  {
   "cell_type": "code",
   "execution_count": 11,
   "metadata": {},
   "outputs": [],
   "source": [
    "X = images\n",
    "y = species.reshape(len(y), 1)\n",
    "y = tf.keras.utils.to_categorical(y, num_classes=10, dtype=\"int\")\n",
    "\n",
    "X_train, X_test, y_train, y_test = train_test_split(X, y, test_size= 0.20, random_state = 33)"
   ]
  },
  {
   "cell_type": "markdown",
   "metadata": {},
   "source": [
    "##### As a result of my experiments in the code, I decided to use 32 as the number of units and (3,3) as the width and height value. I can't show these attempts because they all take about 2 hours to run :("
   ]
  },
  {
   "cell_type": "markdown",
   "metadata": {},
   "source": [
    "### Single Convolutional Layer"
   ]
  },
  {
   "cell_type": "code",
   "execution_count": 12,
   "metadata": {},
   "outputs": [],
   "source": [
    "def CNN(activation_func, learning_rate, number_of_units = 32, width_and_height = (3,3)):\n",
    "\n",
    "    model = Sequential()\n",
    "    model.add(Conv2D(number_of_units, width_and_height, activation = activation_func, kernel_initializer = 'he_uniform', padding= 'same', input_shape=(32, 32, 3)))\n",
    "    model.add(Flatten())\n",
    "    model.add(Dense(10, activation='softmax'))\n",
    "    opt = SGD(lr = learning_rate, momentum=0.9)\n",
    "    model.compile(optimizer = opt, loss = 'categorical_crossentropy', metrics=['accuracy'])\n",
    "    return model"
   ]
  },
  {
   "cell_type": "markdown",
   "metadata": {},
   "source": [
    "#### Change of Batch Size and Learning Rate"
   ]
  },
  {
   "cell_type": "code",
   "execution_count": 14,
   "metadata": {},
   "outputs": [
    {
     "name": "stdout",
     "output_type": "stream",
     "text": [
      "Batch Size: 16 Learning Rate: 0.05 Accuracy: 0.58\n",
      "Batch Size: 16 Learning Rate: 0.15 Accuracy: 0.52\n",
      "Batch Size: 16 Learning Rate: 0.25 Accuracy: 0.54\n",
      "Batch Size: 16 Learning Rate: 0.35 Accuracy: 0.50\n",
      "Batch Size: 16 Learning Rate: 0.45 Accuracy: 0.50\n",
      "Batch Size: 32 Learning Rate: 0.05 Accuracy: 0.61\n",
      "Batch Size: 32 Learning Rate: 0.15 Accuracy: 0.60\n",
      "Batch Size: 32 Learning Rate: 0.25 Accuracy: 0.56\n",
      "Batch Size: 32 Learning Rate: 0.35 Accuracy: 0.57\n",
      "Batch Size: 32 Learning Rate: 0.45 Accuracy: 0.55\n",
      "Batch Size: 64 Learning Rate: 0.05 Accuracy: 0.55\n",
      "Batch Size: 64 Learning Rate: 0.15 Accuracy: 0.59\n",
      "Batch Size: 64 Learning Rate: 0.25 Accuracy: 0.56\n",
      "Batch Size: 64 Learning Rate: 0.35 Accuracy: 0.56\n",
      "Batch Size: 64 Learning Rate: 0.45 Accuracy: 0.45\n",
      "Batch Size: 128 Learning Rate: 0.05 Accuracy: 0.55\n",
      "Batch Size: 128 Learning Rate: 0.15 Accuracy: 0.56\n",
      "Batch Size: 128 Learning Rate: 0.25 Accuracy: 0.59\n",
      "Batch Size: 128 Learning Rate: 0.35 Accuracy: 0.55\n",
      "Batch Size: 128 Learning Rate: 0.45 Accuracy: 0.51\n"
     ]
    }
   ],
   "source": [
    "for i in range(4,8):\n",
    "    for j in range(5):\n",
    "        model = CNN('relu', (0.01 + 0.005*j)) \n",
    "        fit = model.fit(X_train, y_train, epochs=30, batch_size=2**i, verbose=0)\n",
    "        _, acc = model.evaluate(X_test, y_test, verbose = 0)\n",
    "        print(\"Batch Size:\",2**i,\"Learning Rate: %.2f\" %(0.05+(j*0.1)),\"Accuracy: %.2f\" %acc)"
   ]
  },
  {
   "cell_type": "markdown",
   "metadata": {},
   "source": [
    "##### As a result, I decided that the best batch size is 32 and the best learning rate is 0.05 in Single Convolutional Layer CNN model"
   ]
  },
  {
   "cell_type": "markdown",
   "metadata": {},
   "source": [
    "#### Change of Activation Function"
   ]
  },
  {
   "cell_type": "code",
   "execution_count": 15,
   "metadata": {},
   "outputs": [
    {
     "name": "stdout",
     "output_type": "stream",
     "text": [
      "Activation Function: sigmoid Accuracy: 0.31\n",
      "Activation Function: relu Accuracy: 0.59\n"
     ]
    }
   ],
   "source": [
    "for i in range(2):\n",
    "    if i == 1:\n",
    "        x = 'relu'\n",
    "    else:\n",
    "        x = 'sigmoid'\n",
    "    model = CNN(x, (0.01)) \n",
    "    fit = model.fit(X_train, y_train, epochs=30, batch_size=64, verbose=0)\n",
    "    _, acc = model.evaluate(X_test, y_test, verbose = 0)\n",
    "    print(\"Activation Function:\",x, \"Accuracy: %.2f\" %acc)"
   ]
  },
  {
   "cell_type": "markdown",
   "metadata": {},
   "source": [
    "##### I decided to use ReLu function as an activation function in Single Convolutional Layer CNN model"
   ]
  },
  {
   "cell_type": "markdown",
   "metadata": {},
   "source": [
    "### Two Convolutional Layers and Two Fully Connected Layers"
   ]
  },
  {
   "cell_type": "code",
   "execution_count": 16,
   "metadata": {},
   "outputs": [],
   "source": [
    "def CNN2(activation_func, learning_rate, number_of_units = 32, width_and_height = (3,3)):\n",
    "\n",
    "    model = Sequential()\n",
    "    model.add(Conv2D(number_of_units, width_and_height, activation = activation_func, kernel_initializer = 'he_uniform', padding= 'same', input_shape=(32, 32, 3)))\n",
    "    model.add(MaxPooling2D(2,2))\n",
    "    model.add(Conv2D(number_of_units, width_and_height, activation = activation_func, kernel_initializer = 'he_uniform', padding= 'same'))\n",
    "    model.add(MaxPooling2D(1,1))\n",
    "    model.add(Flatten())\n",
    "    model.add(Dense(64, activation='relu'))\n",
    "    model.add(Dense(10, activation='softmax'))\n",
    "    opt = SGD(lr = learning_rate, momentum=0.9)\n",
    "    model.compile(optimizer = opt, loss = 'categorical_crossentropy', metrics=['accuracy'])\n",
    "    return model"
   ]
  },
  {
   "cell_type": "markdown",
   "metadata": {},
   "source": [
    "#### Change of Batch Size and Learning Rate"
   ]
  },
  {
   "cell_type": "code",
   "execution_count": 17,
   "metadata": {},
   "outputs": [
    {
     "name": "stdout",
     "output_type": "stream",
     "text": [
      "Batch Size: 16 Learning Rate: 0.05 Accuracy: 0.59\n",
      "Batch Size: 16 Learning Rate: 0.15 Accuracy: 0.57\n",
      "Batch Size: 16 Learning Rate: 0.25 Accuracy: 0.49\n",
      "Batch Size: 16 Learning Rate: 0.35 Accuracy: 0.40\n",
      "Batch Size: 16 Learning Rate: 0.45 Accuracy: 0.37\n",
      "Batch Size: 32 Learning Rate: 0.05 Accuracy: 0.60\n",
      "Batch Size: 32 Learning Rate: 0.15 Accuracy: 0.58\n",
      "Batch Size: 32 Learning Rate: 0.25 Accuracy: 0.59\n",
      "Batch Size: 32 Learning Rate: 0.35 Accuracy: 0.57\n",
      "Batch Size: 32 Learning Rate: 0.45 Accuracy: 0.53\n",
      "Batch Size: 64 Learning Rate: 0.05 Accuracy: 0.64\n",
      "Batch Size: 64 Learning Rate: 0.15 Accuracy: 0.61\n",
      "Batch Size: 64 Learning Rate: 0.25 Accuracy: 0.58\n",
      "Batch Size: 64 Learning Rate: 0.35 Accuracy: 0.57\n",
      "Batch Size: 64 Learning Rate: 0.45 Accuracy: 0.58\n",
      "Batch Size: 128 Learning Rate: 0.05 Accuracy: 0.59\n",
      "Batch Size: 128 Learning Rate: 0.15 Accuracy: 0.61\n",
      "Batch Size: 128 Learning Rate: 0.25 Accuracy: 0.59\n",
      "Batch Size: 128 Learning Rate: 0.35 Accuracy: 0.58\n",
      "Batch Size: 128 Learning Rate: 0.45 Accuracy: 0.55\n"
     ]
    }
   ],
   "source": [
    "for i in range(4,8):\n",
    "    for j in range(5):\n",
    "        model = CNN2('relu', (0.01 + 0.005*j)) \n",
    "        fit = model.fit(X_train, y_train, epochs=30, batch_size=2**i, verbose=0)\n",
    "        _, acc = model.evaluate(X_test, y_test, verbose = 0)\n",
    "        print(\"Batch Size:\",2**i,\"Learning Rate: %.2f\" %(0.05+(j*0.1)),\"Accuracy: %.2f\" %acc)   "
   ]
  },
  {
   "cell_type": "markdown",
   "metadata": {},
   "source": [
    "##### As a result, I decided that the best batch size is 64 and the best learning rate is 0.05 in Two Convolutional Layers and Two Fully Connected Layers CNN model"
   ]
  },
  {
   "cell_type": "markdown",
   "metadata": {},
   "source": [
    "#### Change of Activation Function"
   ]
  },
  {
   "cell_type": "code",
   "execution_count": 19,
   "metadata": {},
   "outputs": [
    {
     "name": "stdout",
     "output_type": "stream",
     "text": [
      "Activation Function: sigmoid Accuracy: 0.30\n",
      "Activation Function: relu Accuracy: 0.50\n"
     ]
    }
   ],
   "source": [
    "for i in range(2):\n",
    "    if i == 1:\n",
    "        x = 'relu'\n",
    "    else:\n",
    "        x = 'sigmoid'\n",
    "    model = CNN2(x, 0.05) \n",
    "    fit = model.fit(X_train, y_train, epochs=30, batch_size=64, verbose=0)\n",
    "    _, acc = model.evaluate(X_test, y_test, verbose = 0)\n",
    "    print(\"Activation Function:\",x, \"Accuracy: %.2f\" %acc)"
   ]
  },
  {
   "cell_type": "markdown",
   "metadata": {},
   "source": [
    "##### I decided to use ReLu function as an activation function in  Two Convolutional Layers and Two Fully Connected Layers CNN model"
   ]
  },
  {
   "cell_type": "markdown",
   "metadata": {},
   "source": [
    "### CONCLUSION:"
   ]
  },
  {
   "cell_type": "markdown",
   "metadata": {},
   "source": [
    "\n",
    "###### Factors such as learning rate, batch size, number of layers change the model a lot, but I was surprised that the accuracy values that appear as we run the model again are extremely different, perhaps I may not have been able to use the right models for this data.\n",
    "\n",
    "###### At the same time, although it seems that there are 6-7 parameters, it takes a very long time and patience to find the most optimal value of the combination of all of them."
   ]
  },
  {
   "cell_type": "code",
   "execution_count": null,
   "metadata": {},
   "outputs": [],
   "source": []
  }
 ],
 "metadata": {
  "kernelspec": {
   "display_name": "Python 3",
   "language": "python",
   "name": "python3"
  },
  "language_info": {
   "codemirror_mode": {
    "name": "ipython",
    "version": 3
   },
   "file_extension": ".py",
   "mimetype": "text/x-python",
   "name": "python",
   "nbconvert_exporter": "python",
   "pygments_lexer": "ipython3",
   "version": "3.7.4"
  }
 },
 "nbformat": 4,
 "nbformat_minor": 2
}
